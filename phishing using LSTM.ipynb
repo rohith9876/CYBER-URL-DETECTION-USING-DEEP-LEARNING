{
 "cells": [
  {
   "cell_type": "markdown",
   "id": "4c392f25",
   "metadata": {},
   "source": [
    "# Cyber URL deception using Computational linguistics , Deep Learning and High-performance web framework"
   ]
  },
  {
   "cell_type": "code",
   "execution_count": 3,
   "id": "b60729c6",
   "metadata": {},
   "outputs": [],
   "source": [
    "import pandas as pd\n",
    "\n",
    "def main():\n",
    "\n",
    "    blacklist = 'phishing_database.csv'\n",
    "    whitelist = 'whitelist.txt'\n",
    "\n",
    "    urls = {}\n",
    "    \n",
    "    blacklist = pd.read_csv(blacklist)\n",
    "\n",
    "    #Assign 0 for non-malicious and 1 as malicious for supervised learning.\n",
    "    for url in blacklist['url']:\n",
    "        urls[url] = 1\n",
    "    \n",
    "    with open(whitelist, 'r') as f:\n",
    "        lines = f.read().splitlines()\n",
    "        for url in lines:\n",
    "            urls[url] = 0\n",
    "\n",
    "    return urls"
   ]
  },
  {
   "cell_type": "code",
   "execution_count": 4,
   "id": "73ff8a9a",
   "metadata": {},
   "outputs": [
    {
     "name": "stdout",
     "output_type": "stream",
     "text": [
      "29769\n",
      "38228\n"
     ]
    }
   ],
   "source": [
    "from __future__ import print_function\n",
    "import keras\n",
    "from keras.preprocessing.text import Tokenizer\n",
    "from keras.utils import pad_sequences\n",
    "from keras.models import load_model\n",
    "from keras.models import Sequential\n",
    "from keras.layers import LSTM, GRU, Embedding, Dense\n",
    "from keras.layers import Dense, Dropout, Activation\n",
    "from tensorflow.keras.layers import BatchNormalization\n",
    "import numpy as np\n",
    "\n",
    "# Get and process URL data and labels.\n",
    "urls = main()\n",
    "\n",
    "samples = []\n",
    "labels = []\n",
    "for k, v in urls.items():\n",
    "    samples.append(k)\n",
    "    labels.append(v)\n",
    "    #print(k, v)\n",
    "    \n",
    "print(labels.count(1))\n",
    "print(labels.count(0))"
   ]
  },
  {
   "cell_type": "code",
   "execution_count": 5,
   "id": "b846496b",
   "metadata": {},
   "outputs": [
    {
     "name": "stdout",
     "output_type": "stream",
     "text": [
      "Found 69 unique tokens.\n",
      "Shape of data tensor: (67997, 128)\n",
      "Shape of label tensor: (67997,)\n",
      "64597 3399\n"
     ]
    }
   ],
   "source": [
    "# Preprocess data for training.\n",
    "max_chars = 20000\n",
    "maxlen = 128\n",
    "\n",
    "tokenizer = Tokenizer(num_words=max_chars, char_level=True)\n",
    "tokenizer.fit_on_texts(samples)\n",
    "sequences = tokenizer.texts_to_sequences(samples)\n",
    "word_index = tokenizer.word_index\n",
    "print('Found %s unique tokens.' % len(word_index))\n",
    "\n",
    "data = pad_sequences(sequences, maxlen=maxlen)\n",
    "\n",
    "labels = np.asarray(labels)\n",
    "print('Shape of data tensor:', data.shape)\n",
    "print('Shape of label tensor:', labels.shape)\n",
    "\n",
    "# Divide data between training, cross-validation, and test data.\n",
    "training_samples = int(len(samples) * 0.95)\n",
    "validation_samples = int(len(labels) * 0.05)\n",
    "print(training_samples, validation_samples)\n",
    "\n",
    "indices = np.arange(data.shape[0])\n",
    "np.random.shuffle(indices)\n",
    "data = data[indices]\n",
    "labels = labels[indices]\n",
    "'''\n",
    "x = data\n",
    "y = labels\n",
    "'''\n",
    "x = data[:training_samples]\n",
    "y = labels[:training_samples]\n",
    "x_test = data[training_samples: training_samples + validation_samples]\n",
    "y_test = labels[training_samples: training_samples + validation_samples]\n",
    "\n",
    "\n",
    "num_chars = len(tokenizer.word_index)+1\n",
    "\n",
    "embedding_vector_length = 128"
   ]
  },
  {
   "cell_type": "code",
   "execution_count": 6,
   "id": "eb825e02",
   "metadata": {},
   "outputs": [
    {
     "name": "stdout",
     "output_type": "stream",
     "text": [
      "Model: \"sequential\"\n",
      "_________________________________________________________________\n",
      " Layer (type)                Output Shape              Param #   \n",
      "=================================================================\n",
      " embedding (Embedding)       (None, 128, 128)          8960      \n",
      "                                                                 \n",
      " lstm (LSTM)                 (None, 128, 256)          394240    \n",
      "                                                                 \n",
      " dropout (Dropout)           (None, 128, 256)          0         \n",
      "                                                                 \n",
      " lstm_1 (LSTM)               (None, 128, 256)          525312    \n",
      "                                                                 \n",
      " dropout_1 (Dropout)         (None, 128, 256)          0         \n",
      "                                                                 \n",
      " lstm_2 (LSTM)               (None, 128, 128)          197120    \n",
      "                                                                 \n",
      " dropout_2 (Dropout)         (None, 128, 128)          0         \n",
      "                                                                 \n",
      " lstm_3 (LSTM)               (None, 96)                86400     \n",
      "                                                                 \n",
      " dropout_3 (Dropout)         (None, 96)                0         \n",
      "                                                                 \n",
      " dense (Dense)               (None, 1)                 97        \n",
      "                                                                 \n",
      "=================================================================\n",
      "Total params: 1212129 (4.62 MB)\n",
      "Trainable params: 1212129 (4.62 MB)\n",
      "Non-trainable params: 0 (0.00 Byte)\n",
      "_________________________________________________________________\n"
     ]
    }
   ],
   "source": [
    "# Create model for training.\n",
    "model = Sequential()\n",
    "model.add(Embedding(num_chars, embedding_vector_length, input_length=maxlen))\n",
    "\n",
    "model.add(LSTM(units=256, return_sequences=True))\n",
    "model.add(Dropout(0.2))\n",
    "model.add(LSTM(units=256, return_sequences=True))\n",
    "model.add(Dropout(0.2))\n",
    "model.add(LSTM(units=128, return_sequences=True))\n",
    "model.add(Dropout(0.2))\n",
    "model.add(LSTM(units=96))\n",
    "model.add(Dropout(0.2))\n",
    "model.add(Dense(units=1))\n",
    "\n",
    "\n",
    "model.summary()\n",
    "\n",
    "model.compile(optimizer='adam',\n",
    "            loss='mean_squared_error',\n",
    "            metrics=['accuracy'])"
   ]
  },
  {
   "cell_type": "code",
   "execution_count": 7,
   "id": "b9e2662b",
   "metadata": {},
   "outputs": [
    {
     "name": "stdout",
     "output_type": "stream",
     "text": [
      "3230/3230 [==============================] - 3514s 1s/step - loss: 0.0772 - accuracy: 0.9013\n",
      "INFO:tensorflow:Assets written to: prediction_url\\assets\n"
     ]
    },
    {
     "name": "stderr",
     "output_type": "stream",
     "text": [
      "INFO:tensorflow:Assets written to: prediction_url\\assets\n"
     ]
    }
   ],
   "source": [
    "# Train.\n",
    "model.fit(x, y,\n",
    "        epochs=1,\n",
    "        batch_size=20\n",
    "        )\n",
    "\n",
    "model.save('prediction_url')"
   ]
  },
  {
   "cell_type": "code",
   "execution_count": 8,
   "id": "3a14a64b",
   "metadata": {},
   "outputs": [
    {
     "name": "stdout",
     "output_type": "stream",
     "text": [
      "4/4 [==============================] - 11s 2s/step - loss: 0.0296 - accuracy: 0.9673\n",
      "Model Accuracy: 96.73%\n"
     ]
    }
   ],
   "source": [
    "# Evaluate model on test data.\n",
    "score, acc = model.evaluate(x_test, y_test, verbose=1, batch_size=1024)\n",
    "\n",
    "print(\"Model Accuracy: {:0.2f}%\".format(acc * 100))"
   ]
  },
  {
   "cell_type": "code",
   "execution_count": 9,
   "id": "97a21d0e",
   "metadata": {},
   "outputs": [],
   "source": [
    "# Load the model\n",
    "model = load_model('prediction_url')"
   ]
  },
  {
   "cell_type": "code",
   "execution_count": 13,
   "id": "881e749f",
   "metadata": {},
   "outputs": [
    {
     "name": "stdout",
     "output_type": "stream",
     "text": [
      "107/107 [==============================] - 25s 234ms/step\n"
     ]
    }
   ],
   "source": [
    "predictions = model.predict(x_test)"
   ]
  },
  {
   "cell_type": "code",
   "execution_count": 8,
   "id": "394e1bf6",
   "metadata": {},
   "outputs": [
    {
     "name": "stdout",
     "output_type": "stream",
     "text": [
      "Epoch 1/200\n",
      "17/17 [==============================] - 2s 40ms/step - loss: 0.2948 - binary_accuracy: 0.8881 - precision: 0.9069 - recall: 0.8904 - val_loss: 0.3539 - val_binary_accuracy: 0.9012 - val_precision: 0.8588 - val_recall: 0.9844\n",
      "Epoch 2/200\n",
      "17/17 [==============================] - 0s 23ms/step - loss: 0.1729 - binary_accuracy: 0.9316 - precision: 0.9351 - recall: 0.9426 - val_loss: 0.3626 - val_binary_accuracy: 0.8904 - val_precision: 0.8388 - val_recall: 0.9942\n",
      "Epoch 3/200\n",
      "17/17 [==============================] - 0s 24ms/step - loss: 0.1465 - binary_accuracy: 0.9413 - precision: 0.9411 - recall: 0.9543 - val_loss: 0.3491 - val_binary_accuracy: 0.8951 - val_precision: 0.8445 - val_recall: 0.9948\n",
      "Epoch 4/200\n",
      "17/17 [==============================] - 0s 23ms/step - loss: 0.1336 - binary_accuracy: 0.9434 - precision: 0.9443 - recall: 0.9547 - val_loss: 0.3127 - val_binary_accuracy: 0.9132 - val_precision: 0.8697 - val_recall: 0.9929\n",
      "Epoch 5/200\n",
      "17/17 [==============================] - 0s 23ms/step - loss: 0.1213 - binary_accuracy: 0.9489 - precision: 0.9473 - recall: 0.9617 - val_loss: 0.2733 - val_binary_accuracy: 0.9262 - val_precision: 0.8892 - val_recall: 0.9909\n",
      "Epoch 6/200\n",
      "17/17 [==============================] - 0s 24ms/step - loss: 0.1129 - binary_accuracy: 0.9544 - precision: 0.9577 - recall: 0.9606 - val_loss: 0.2398 - val_binary_accuracy: 0.9269 - val_precision: 0.8880 - val_recall: 0.9942\n",
      "Epoch 7/200\n",
      "17/17 [==============================] - 0s 24ms/step - loss: 0.1095 - binary_accuracy: 0.9537 - precision: 0.9508 - recall: 0.9669 - val_loss: 0.2171 - val_binary_accuracy: 0.9385 - val_precision: 0.9067 - val_recall: 0.9916\n",
      "Epoch 8/200\n",
      "17/17 [==============================] - 0s 23ms/step - loss: 0.0986 - binary_accuracy: 0.9596 - precision: 0.9626 - recall: 0.9649 - val_loss: 0.1870 - val_binary_accuracy: 0.9486 - val_precision: 0.9257 - val_recall: 0.9870\n",
      "Epoch 9/200\n",
      "17/17 [==============================] - 0s 23ms/step - loss: 0.0963 - binary_accuracy: 0.9601 - precision: 0.9597 - recall: 0.9690 - val_loss: 0.1685 - val_binary_accuracy: 0.9595 - val_precision: 0.9429 - val_recall: 0.9870\n",
      "Epoch 10/200\n",
      "17/17 [==============================] - 0s 23ms/step - loss: 0.0897 - binary_accuracy: 0.9636 - precision: 0.9633 - recall: 0.9716 - val_loss: 0.1562 - val_binary_accuracy: 0.9569 - val_precision: 0.9377 - val_recall: 0.9883\n",
      "Epoch 11/200\n",
      "17/17 [==============================] - 0s 23ms/step - loss: 0.0971 - binary_accuracy: 0.9598 - precision: 0.9607 - recall: 0.9675 - val_loss: 0.1348 - val_binary_accuracy: 0.9584 - val_precision: 0.9456 - val_recall: 0.9818\n",
      "Epoch 12/200\n",
      "17/17 [==============================] - 0s 22ms/step - loss: 0.0891 - binary_accuracy: 0.9627 - precision: 0.9622 - recall: 0.9712 - val_loss: 0.1269 - val_binary_accuracy: 0.9674 - val_precision: 0.9548 - val_recall: 0.9883\n",
      "Epoch 13/200\n",
      "17/17 [==============================] - 0s 24ms/step - loss: 0.0847 - binary_accuracy: 0.9638 - precision: 0.9667 - recall: 0.9684 - val_loss: 0.1182 - val_binary_accuracy: 0.9591 - val_precision: 0.9418 - val_recall: 0.9877\n",
      "Epoch 14/200\n",
      "17/17 [==============================] - 0s 24ms/step - loss: 0.0814 - binary_accuracy: 0.9686 - precision: 0.9696 - recall: 0.9742 - val_loss: 0.1045 - val_binary_accuracy: 0.9638 - val_precision: 0.9621 - val_recall: 0.9734\n",
      "Epoch 15/200\n",
      "17/17 [==============================] - 0s 25ms/step - loss: 0.0793 - binary_accuracy: 0.9660 - precision: 0.9676 - recall: 0.9714 - val_loss: 0.1045 - val_binary_accuracy: 0.9645 - val_precision: 0.9639 - val_recall: 0.9727\n",
      "Epoch 16/200\n",
      "17/17 [==============================] - 0s 22ms/step - loss: 0.0784 - binary_accuracy: 0.9679 - precision: 0.9648 - recall: 0.9781 - val_loss: 0.0942 - val_binary_accuracy: 0.9653 - val_precision: 0.9652 - val_recall: 0.9727\n",
      "Epoch 17/200\n",
      "17/17 [==============================] - 0s 21ms/step - loss: 0.0742 - binary_accuracy: 0.9713 - precision: 0.9724 - recall: 0.9762 - val_loss: 0.0931 - val_binary_accuracy: 0.9696 - val_precision: 0.9709 - val_recall: 0.9747\n",
      "Epoch 18/200\n",
      "17/17 [==============================] - 0s 21ms/step - loss: 0.0799 - binary_accuracy: 0.9665 - precision: 0.9689 - recall: 0.9710 - val_loss: 0.0886 - val_binary_accuracy: 0.9642 - val_precision: 0.9639 - val_recall: 0.9721\n",
      "Epoch 19/200\n",
      "17/17 [==============================] - 0s 21ms/step - loss: 0.0706 - binary_accuracy: 0.9701 - precision: 0.9669 - recall: 0.9799 - val_loss: 0.0855 - val_binary_accuracy: 0.9664 - val_precision: 0.9701 - val_recall: 0.9695\n",
      "Epoch 20/200\n",
      "17/17 [==============================] - 0s 21ms/step - loss: 0.0694 - binary_accuracy: 0.9711 - precision: 0.9732 - recall: 0.9749 - val_loss: 0.0862 - val_binary_accuracy: 0.9638 - val_precision: 0.9774 - val_recall: 0.9571\n",
      "Epoch 21/200\n",
      "17/17 [==============================] - 0s 22ms/step - loss: 0.0726 - binary_accuracy: 0.9683 - precision: 0.9702 - recall: 0.9729 - val_loss: 0.0834 - val_binary_accuracy: 0.9664 - val_precision: 0.9677 - val_recall: 0.9721\n",
      "Epoch 22/200\n",
      "17/17 [==============================] - 0s 22ms/step - loss: 0.0725 - binary_accuracy: 0.9711 - precision: 0.9720 - recall: 0.9762 - val_loss: 0.0809 - val_binary_accuracy: 0.9692 - val_precision: 0.9709 - val_recall: 0.9740\n",
      "Epoch 23/200\n",
      "17/17 [==============================] - 0s 23ms/step - loss: 0.0697 - binary_accuracy: 0.9706 - precision: 0.9722 - recall: 0.9751 - val_loss: 0.0759 - val_binary_accuracy: 0.9703 - val_precision: 0.9673 - val_recall: 0.9799\n",
      "Epoch 24/200\n",
      "17/17 [==============================] - 0s 23ms/step - loss: 0.0702 - binary_accuracy: 0.9708 - precision: 0.9750 - recall: 0.9725 - val_loss: 0.0774 - val_binary_accuracy: 0.9692 - val_precision: 0.9642 - val_recall: 0.9812\n",
      "Epoch 25/200\n",
      "17/17 [==============================] - 0s 22ms/step - loss: 0.0668 - binary_accuracy: 0.9731 - precision: 0.9741 - recall: 0.9777 - val_loss: 0.0743 - val_binary_accuracy: 0.9678 - val_precision: 0.9665 - val_recall: 0.9760\n",
      "Epoch 26/200\n",
      "17/17 [==============================] - 0s 22ms/step - loss: 0.0627 - binary_accuracy: 0.9752 - precision: 0.9744 - recall: 0.9812 - val_loss: 0.0750 - val_binary_accuracy: 0.9696 - val_precision: 0.9770 - val_recall: 0.9682\n",
      "Epoch 27/200\n",
      "17/17 [==============================] - 0s 22ms/step - loss: 0.0577 - binary_accuracy: 0.9771 - precision: 0.9798 - recall: 0.9790 - val_loss: 0.0723 - val_binary_accuracy: 0.9696 - val_precision: 0.9703 - val_recall: 0.9753\n",
      "Epoch 28/200\n",
      "17/17 [==============================] - 0s 20ms/step - loss: 0.0617 - binary_accuracy: 0.9748 - precision: 0.9754 - recall: 0.9794 - val_loss: 0.0738 - val_binary_accuracy: 0.9703 - val_precision: 0.9721 - val_recall: 0.9747\n",
      "Epoch 29/200\n",
      "17/17 [==============================] - 0s 22ms/step - loss: 0.0555 - binary_accuracy: 0.9780 - precision: 0.9780 - recall: 0.9827 - val_loss: 0.0700 - val_binary_accuracy: 0.9700 - val_precision: 0.9758 - val_recall: 0.9701\n",
      "Epoch 30/200\n",
      "17/17 [==============================] - 0s 21ms/step - loss: 0.0607 - binary_accuracy: 0.9767 - precision: 0.9790 - recall: 0.9792 - val_loss: 0.0727 - val_binary_accuracy: 0.9696 - val_precision: 0.9733 - val_recall: 0.9721\n",
      "Epoch 31/200\n",
      "17/17 [==============================] - 0s 22ms/step - loss: 0.0581 - binary_accuracy: 0.9753 - precision: 0.9765 - recall: 0.9792 - val_loss: 0.0708 - val_binary_accuracy: 0.9703 - val_precision: 0.9752 - val_recall: 0.9714\n",
      "Epoch 32/200\n",
      "17/17 [==============================] - 0s 21ms/step - loss: 0.0534 - binary_accuracy: 0.9771 - precision: 0.9753 - recall: 0.9838 - val_loss: 0.0716 - val_binary_accuracy: 0.9696 - val_precision: 0.9733 - val_recall: 0.9721\n",
      "Epoch 33/200\n",
      "17/17 [==============================] - 0s 21ms/step - loss: 0.0568 - binary_accuracy: 0.9762 - precision: 0.9804 - recall: 0.9768 - val_loss: 0.0755 - val_binary_accuracy: 0.9703 - val_precision: 0.9765 - val_recall: 0.9701\n",
      "Epoch 34/200\n",
      "17/17 [==============================] - 0s 24ms/step - loss: 0.0570 - binary_accuracy: 0.9770 - precision: 0.9772 - recall: 0.9816 - val_loss: 0.0751 - val_binary_accuracy: 0.9692 - val_precision: 0.9764 - val_recall: 0.9682\n",
      "Epoch 35/200\n",
      "17/17 [==============================] - 0s 26ms/step - loss: 0.0482 - binary_accuracy: 0.9805 - precision: 0.9825 - recall: 0.9825 - val_loss: 0.0719 - val_binary_accuracy: 0.9711 - val_precision: 0.9728 - val_recall: 0.9753\n",
      "Epoch 36/200\n",
      "17/17 [==============================] - 0s 24ms/step - loss: 0.0531 - binary_accuracy: 0.9770 - precision: 0.9759 - recall: 0.9829 - val_loss: 0.0753 - val_binary_accuracy: 0.9682 - val_precision: 0.9795 - val_recall: 0.9630\n",
      "Epoch 37/200\n",
      "17/17 [==============================] - 0s 23ms/step - loss: 0.0529 - binary_accuracy: 0.9787 - precision: 0.9791 - recall: 0.9827 - val_loss: 0.0741 - val_binary_accuracy: 0.9707 - val_precision: 0.9802 - val_recall: 0.9669\n",
      "Epoch 38/200\n",
      "17/17 [==============================] - 0s 24ms/step - loss: 0.0518 - binary_accuracy: 0.9796 - precision: 0.9810 - recall: 0.9825 - val_loss: 0.0738 - val_binary_accuracy: 0.9718 - val_precision: 0.9796 - val_recall: 0.9695\n",
      "Epoch 39/200\n",
      "17/17 [==============================] - 0s 23ms/step - loss: 0.0531 - binary_accuracy: 0.9787 - precision: 0.9799 - recall: 0.9818 - val_loss: 0.0700 - val_binary_accuracy: 0.9732 - val_precision: 0.9741 - val_recall: 0.9779\n",
      "Epoch 40/200\n",
      "17/17 [==============================] - 0s 24ms/step - loss: 0.0503 - binary_accuracy: 0.9787 - precision: 0.9787 - recall: 0.9831 - val_loss: 0.0708 - val_binary_accuracy: 0.9747 - val_precision: 0.9785 - val_recall: 0.9760\n",
      "Epoch 41/200\n",
      "17/17 [==============================] - 0s 22ms/step - loss: 0.0525 - binary_accuracy: 0.9783 - precision: 0.9809 - recall: 0.9801 - val_loss: 0.0738 - val_binary_accuracy: 0.9743 - val_precision: 0.9711 - val_recall: 0.9831\n",
      "Epoch 42/200\n",
      "17/17 [==============================] - 0s 22ms/step - loss: 0.0500 - binary_accuracy: 0.9794 - precision: 0.9812 - recall: 0.9818 - val_loss: 0.0701 - val_binary_accuracy: 0.9732 - val_precision: 0.9681 - val_recall: 0.9844\n",
      "Epoch 43/200\n",
      "17/17 [==============================] - 0s 22ms/step - loss: 0.0539 - binary_accuracy: 0.9782 - precision: 0.9780 - recall: 0.9829 - val_loss: 0.0716 - val_binary_accuracy: 0.9700 - val_precision: 0.9802 - val_recall: 0.9656\n",
      "Epoch 44/200\n",
      "17/17 [==============================] - 0s 23ms/step - loss: 0.0497 - binary_accuracy: 0.9794 - precision: 0.9791 - recall: 0.9840 - val_loss: 0.0714 - val_binary_accuracy: 0.9714 - val_precision: 0.9771 - val_recall: 0.9714\n",
      "Epoch 45/200\n",
      "17/17 [==============================] - 0s 22ms/step - loss: 0.0494 - binary_accuracy: 0.9802 - precision: 0.9795 - recall: 0.9851 - val_loss: 0.0766 - val_binary_accuracy: 0.9692 - val_precision: 0.9821 - val_recall: 0.9623\n",
      "Epoch 46/200\n",
      "17/17 [==============================] - 0s 21ms/step - loss: 0.0499 - binary_accuracy: 0.9794 - precision: 0.9801 - recall: 0.9829 - val_loss: 0.0669 - val_binary_accuracy: 0.9725 - val_precision: 0.9822 - val_recall: 0.9682\n",
      "Epoch 47/200\n",
      "17/17 [==============================] - 0s 23ms/step - loss: 0.0513 - binary_accuracy: 0.9783 - precision: 0.9822 - recall: 0.9788 - val_loss: 0.0727 - val_binary_accuracy: 0.9725 - val_precision: 0.9747 - val_recall: 0.9760\n"
     ]
    }
   ],
   "source": [
    "early_stopping = keras.callbacks.EarlyStopping(\n",
    "    patience=20,\n",
    "    min_delta=0.01,\n",
    "    restore_best_weights=True,\n",
    ")\n",
    "history = model.fit(\n",
    "    X_train, y_train,\n",
    "    validation_data=(X_valid, y_valid),\n",
    "    batch_size=512,\n",
    "    epochs=200,\n",
    "    callbacks=[early_stopping],\n",
    ")"
   ]
  },
  {
   "cell_type": "markdown",
   "id": "54db0996",
   "metadata": {},
   "source": [
    "# Evaluation Metrics"
   ]
  },
  {
   "cell_type": "code",
   "execution_count": 9,
   "id": "57219ede",
   "metadata": {},
   "outputs": [
    {
     "name": "stdout",
     "output_type": "stream",
     "text": [
      "Best Validation Loss: 0.0668812096118927\n",
      "Best Validation Accuracy: 0.97467440366745\n",
      "Best Recall: 0.9948018193244934\n",
      "Best Precision: 0.9822016954421997\n"
     ]
    },
    {
     "data": {
      "image/png": "[encoded data removed]",
      "text/plain": [
       "<Figure size 640x480 with 1 Axes>"
      ]
     },
     "metadata": {},
     "output_type": "display_data"
    },
    {
     "data": {
      "image/png": "[encoded data removed]",
      "text/plain": [
       "<Figure size 640x480 with 1 Axes>"
      ]
     },
     "metadata": {},
     "output_type": "display_data"
    }
   ],
   "source": [
    "history_df = pd.DataFrame(history.history)\n",
    "history_df.loc[0:, ['loss', 'val_loss']].plot()\n",
    "history_df.loc[0:, ['binary_accuracy', 'val_binary_accuracy']].plot()\n",
    "\n",
    "print(f\"Best Validation Loss: {history_df['val_loss'].min()}\" +\\\n",
    "      f\"\\nBest Validation Accuracy: {history_df['val_binary_accuracy'].max()}\"+\\\n",
    "      f\"\\nBest Recall: {history_df['val_recall'].max()}\" +\\\n",
    "      f\"\\nBest Precision: {history_df['val_precision'].max()}\"\n",
    ")"
   ]
  },
  {
   "cell_type": "code",
   "execution_count": 8,
   "id": "3b76e881",
   "metadata": {},
   "outputs": [],
   "source": [
    "import joblib\n",
    "import pickle\n",
    "\n",
    "# Save the trained model\n",
    "model_filename = 'DLphishing.pkl'\n",
    "joblib.dump(model, model_filename)\n",
    "\n",
    "# Save the history dataframe\n",
    "history_filename = 'training_history.pkl'\n",
    "with open(history_filename, 'wb') as file:\n",
    "    pickle.dump(history_df, file)\n"
   ]
  },
  {
   "cell_type": "code",
   "execution_count": null,
   "id": "3ec520b6",
   "metadata": {},
   "outputs": [],
   "source": []
  }
 ],
 "metadata": {
  "kernelspec": {
   "display_name": "Python 3 (ipykernel)",
   "language": "python",
   "name": "python3"
  },
  "language_info": {
   "codemirror_mode": {
    "name": "ipython",
    "version": 3
   },
   "file_extension": ".py",
   "mimetype": "text/x-python",
   "name": "python",
   "nbconvert_exporter": "python",
   "pygments_lexer": "ipython3",
   "version": "3.10.9"
  }
 },
 "nbformat": 4,
 "nbformat_minor": 5
}
